{
 "cells": [
  {
   "cell_type": "code",
   "execution_count": 30,
   "id": "f84cc684",
   "metadata": {},
   "outputs": [],
   "source": [
    "import numpy as np\n",
    "import matplotlib.pyplot as plt"
   ]
  },
  {
   "cell_type": "code",
   "execution_count": 31,
   "id": "9e2a419b",
   "metadata": {},
   "outputs": [],
   "source": [
    "def kMeans_init_centroids(X, K):\n",
    "    randidx = np.random.permutation(X.shape[0])\n",
    "    centroids = X[randidx[:K]]\n",
    "    \n",
    "    return centroids"
   ]
  },
  {
   "cell_type": "code",
   "execution_count": 77,
   "id": "48e6683a",
   "metadata": {},
   "outputs": [],
   "source": [
    "def find_closest_centroids(X, centroids):\n",
    "    \"\"\"\n",
    "    X is an ndarray of shape (num_of_points, 2)\n",
    "    centroids is an ndarray of shape (num_of_points, 2)\n",
    "    \"\"\"\n",
    "    K = centroids.shape[0]\n",
    "    idx=np.zeros(X.shape[0], dtype=int)\n",
    "    for point_index in range(X.shape[0]):\n",
    "        prev_distance = np.linalg.norm(X[point_index] - centroids[0])\n",
    "        for cent_index in range(K - 1):\n",
    "            new_distance = np.linalg.norm(X[point_index] - centroids[cent_index+1])\n",
    "            if new_distance < prev_distance:\n",
    "                idx[point_index] = cent_index+1\n",
    "                prev_distance = new_distance\n",
    "    \n",
    "    return idx"
   ]
  },
  {
   "cell_type": "code",
   "execution_count": 80,
   "id": "f546e5f3",
   "metadata": {},
   "outputs": [],
   "source": [
    "#unit test find_closest_centroids\n",
    "X = np.array([[1,5], [1,7], [3, 5], [3, 7]])\n",
    "centroids = np.array([[2,6], [10,0]])\n",
    "idx = find_closest_centroids(X, centroids)\n",
    "np.testing.assert_array_equal(idx, np.zeros(X.shape[0], dtype=int))\n",
    "\n",
    "centroids = np.array([[10,0], [2,6]])\n",
    "idx = find_closest_centroids(X, centroids)\n",
    "np.testing.assert_array_equal(idx, np.ones(X.shape[0], dtype=int))"
   ]
  },
  {
   "cell_type": "code",
   "execution_count": 112,
   "id": "fe4b0851",
   "metadata": {},
   "outputs": [],
   "source": [
    "def compute_centroids(X, idx, K):\n",
    "    centroids = np.zeros((K, X.shape[1]))\n",
    "    for cent_index in range(K):\n",
    "        if(X[idx==cent_index].shape[0] > 0):\n",
    "            new_centroid = np.sum(X[idx==cent_index], axis = 0) / X[idx==cent_index].shape[0]\n",
    "            centroids[cent_index] = new_centroid\n",
    "        else:\n",
    "            centroids = np.delete(centroids, cent_index, axis = 0)\n",
    "    \n",
    "    return centroids"
   ]
  },
  {
   "cell_type": "code",
   "execution_count": 113,
   "id": "9c2849f8",
   "metadata": {},
   "outputs": [
    {
     "data": {
      "text/plain": [
       "array([[2., 6.]])"
      ]
     },
     "execution_count": 113,
     "metadata": {},
     "output_type": "execute_result"
    }
   ],
   "source": [
    "#unit test compute_centroids\n",
    "X = np.array([[1,5], [1,7], [3, 5], [3, 7]])\n",
    "K = 2\n",
    "idx = np.zeros(X.shape[0], dtype=int)\n",
    "compute_centroids(X, idx, K)"
   ]
  },
  {
   "cell_type": "code",
   "execution_count": 81,
   "id": "2f120a0d",
   "metadata": {},
   "outputs": [],
   "source": [
    "def plot_points(X):\n",
    "    \"\"\"\n",
    "    X is an ndarray of shape (num_of_points, 2)\n",
    "    \"\"\"\n",
    "    x_coord = [i[0] for i in X]\n",
    "    y_coord = [i[1] for i in X]\n",
    "    plt.scatter(x_coord, y_coord)"
   ]
  },
  {
   "cell_type": "code",
   "execution_count": 82,
   "id": "b4a2dc81",
   "metadata": {},
   "outputs": [
    {
     "data": {
      "image/png": "[encoded data removed]",
      "text/plain": [
       "<Figure size 640x480 with 1 Axes>"
      ]
     },
     "metadata": {},
     "output_type": "display_data"
    }
   ],
   "source": [
    "plot_points(X)\n",
    "plot_points(centroids)"
   ]
  },
  {
   "cell_type": "code",
   "execution_count": null,
   "id": "835909a6",
   "metadata": {},
   "outputs": [],
   "source": []
  }
 ],
 "metadata": {
  "kernelspec": {
   "display_name": "Python 3 (ipykernel)",
   "language": "python",
   "name": "python3"
  },
  "language_info": {
   "codemirror_mode": {
    "name": "ipython",
    "version": 3
   },
   "file_extension": ".py",
   "mimetype": "text/x-python",
   "name": "python",
   "nbconvert_exporter": "python",
   "pygments_lexer": "ipython3",
   "version": "3.9.13"
  }
 },
 "nbformat": 4,
 "nbformat_minor": 5
}
